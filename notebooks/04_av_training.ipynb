{
 "cells": [
  {
   "cell_type": "markdown",
   "id": "84d01b84-a84e-41a9-b188-d6d09c9562c1",
   "metadata": {},
   "source": [
    "## Introduction<a id='introduction'></a>\n",
    "\n",
    "**Purpose:**\n",
    "\n",
    "Explore dataset to get a sense of which features are most predictive of EFS.\n",
    "\n",
    "**Context:**\n",
    "\n",
    "Hematopoietic stem cells, which reside in the bone marrow, are responsible for generating all blood cells, including red blood cells, platelet-producing cells, and immune system cells such as T cells, B cells, neutrophils, and natural killer cells. Allogeneic hematopoietic cell transplantation (HCT) can replace an individual's faulty hematopoietic stem cells with functional ones restoring healthy immune system function. \n",
    "\n",
    "Improving survival predictions for allogeneic HCT patients is a vital healthcare challenge. Current predictive models often fall short in addressing disparities related to socioeconomic status, race, and geography. Addressing these gaps is crucial for enhancing patient care, optimizing resource utilization, and rebuilding trust in the healthcare system.\n",
    "\n",
    "The goal of the project is to predict an individual's risk score. (Target variable is ```efs```)\n",
    "\n",
    "**Data:**\n",
    "\n",
    "Project and data comes from [Kaggle](https://www.kaggle.com/competitions/equity-post-HCT-survival-predictions/overview)\n",
    "\n",
    "**Outcomes of Preprocessing:**\n",
    "\n",
    "1. Removed rare occurences\n",
    "2. Converted age to categories following prognostic factors identified from UpToDate\n",
    "3. Binned Sorror comorbidity score\n",
    "4. Target encoding led to minimal improvements in performance\n",
    "5. Trained using efs, efs_time, and kaplan meier survival\n",
    "    - efs produced best result, but could be model dependent\n",
    "\n",
    "**Outcomes from this notebook (Training):**\n",
    "\n",
    "1. Separately trained 4 models each using only risk data, patient data, donor/recipient data, and HCT data, then merged outputs into a multichannel NN\n",
    "    - Validation Accuracy: 0.665\n",
    "    - AUC: 0.719\n",
    "    - EFS=0 predictions split into two groups, one that confidently predicts efs=0 and other that less confident\n",
    "    - EFS=1 predictions appear as single distribution with long left-sided tail"
   ]
  },
  {
   "cell_type": "markdown",
   "id": "129ef5d8-dd8e-4f54-a45f-830241d9e76b",
   "metadata": {},
   "source": [
    "## Contents<a id='contents'></a>\n",
    "* [Introduction](#introduction)\n",
    "* [Contents](#contents)\n",
    "* [Objectives](#objectives)\n",
    "* [Setting Up Notebook](#setting_up_notebook)\n",
    "    * [Loading Environment](#loading_environment)\n",
    "    * [Loading and Cleaning Data](#loading_and_cleaning_data)\n",
    "    * [Preprocessing and Helper Functions](#preprocessing_and_helper_functions)\n",
    "* [Training a Multimodal Neural Network](#training_a_multimodal_neural_network)\n",
    "    * [Risk Model](#risk_model)\n",
    "    * [Risk and Patient Model](#risk_and_patient_model)\n",
    "    * [Risk, Patient, and Donor/Recipient Model](#risk_patient_and_donorrecipient_model)\n",
    "    * [Risk, Patient, Donor/Recipient, and HCT Model](#risk_patient_donorrecipient_and_hct_model)\n",
    "    * [Fine-Tuning Model](#fine-tuning_model)\n",
    "* [Summary](#summary)"
   ]
  },
  {
   "cell_type": "markdown",
   "id": "b5d28bf1-0643-4066-b6d1-c87a7ff113dc",
   "metadata": {},
   "source": [
    "## Objectives<a id='objectives'></a>\n",
    "\n",
    "1. Preprocess data for training\n",
    "2. Train models to predict EFS"
   ]
  },
  {
   "cell_type": "markdown",
   "id": "54a4700c-819e-42d9-bf0b-a131b78aa732",
   "metadata": {
    "tags": []
   },
   "source": [
    "## Setting Up Notebook <a id='setting_up_notebook'></a>"
   ]
  },
  {
   "cell_type": "markdown",
   "id": "214e9993-b267-4a8a-b3dc-52e84ed5abdd",
   "metadata": {
    "jp-MarkdownHeadingCollapsed": true,
    "tags": []
   },
   "source": [
    "### Loading Environment<a id='loading_environment'></a>"
   ]
  },
  {
   "cell_type": "code",
   "execution_count": 1,
   "id": "406103bb-1a74-47cf-891d-b92533f952c7",
   "metadata": {
    "tags": []
   },
   "outputs": [
    {
     "name": "stderr",
     "output_type": "stream",
     "text": [
      "C:\\Users\\kimvo\\anaconda3\\Lib\\site-packages\\pandas\\core\\arrays\\masked.py:60: UserWarning: Pandas requires version '1.3.6' or newer of 'bottleneck' (version '1.3.5' currently installed).\n",
      "  from pandas.core import (\n"
     ]
    }
   ],
   "source": [
    "from collections import defaultdict\n",
    "import numpy as np\n",
    "from scipy.integrate import simpson\n",
    "import matplotlib.pyplot as plt\n",
    "import pandas as pd\n",
    "import seaborn as sns\n",
    "\n",
    "plt.rcParams.update({'font.size': 12, 'figure.figsize':(4,3)})"
   ]
  },
  {
   "cell_type": "code",
   "execution_count": 2,
   "id": "91c62750-0689-43ee-91c8-f17e722a7942",
   "metadata": {
    "tags": []
   },
   "outputs": [
    {
     "name": "stdout",
     "output_type": "stream",
     "text": [
      "WARNING:tensorflow:From C:\\Users\\kimvo\\anaconda3\\Lib\\site-packages\\keras\\src\\losses.py:2976: The name tf.losses.sparse_softmax_cross_entropy is deprecated. Please use tf.compat.v1.losses.sparse_softmax_cross_entropy instead.\n",
      "\n"
     ]
    }
   ],
   "source": [
    "from lifelines import KaplanMeierFitter, NelsonAalenFitter # may not be needed\n",
    "\n",
    "from sklearn.preprocessing import OneHotEncoder, StandardScaler\n",
    "from sklearn.pipeline import Pipeline, FeatureUnion\n",
    "from sklearn.impute import SimpleImputer\n",
    "from sklearn.base import BaseEstimator, TransformerMixin\n",
    "from sklearn.model_selection import train_test_split, StratifiedKFold\n",
    "from sklearn.metrics import classification_report, confusion_matrix, roc_curve\n",
    "from sklearn.decomposition import PCA\n",
    "import shap\n",
    "\n",
    "import tensorflow as tf\n",
    "from tensorflow import keras\n",
    "from tensorflow.keras import layers\n",
    "\n",
    "from keras.callbacks import EarlyStopping, ModelCheckpoint"
   ]
  },
  {
   "cell_type": "markdown",
   "id": "4dd2e3d8-bc89-43e6-af4b-3823d0b3d5ed",
   "metadata": {
    "jp-MarkdownHeadingCollapsed": true,
    "tags": []
   },
   "source": [
    "### Loading and Cleaning Data<a id='loading_and_cleaning_data'></a>"
   ]
  },
  {
   "cell_type": "code",
   "execution_count": 3,
   "id": "0dd3b800-6c90-4bbe-b6bd-b8f79ccc84dc",
   "metadata": {
    "tags": []
   },
   "outputs": [],
   "source": [
    "def remove_rare_vals(df, threshold=0.01):\n",
    "    '''\n",
    "    Remove categorical values which appear less than the threshold frequency\n",
    "    '''\n",
    "    cols = df.columns.values\n",
    "    threshold = int(df.shape[0]*threshold)\n",
    "\n",
    "    new_df = pd.DataFrame()\n",
    "\n",
    "    for col in cols:\n",
    "        remove_vals = []\n",
    "        for key, val in df[col].value_counts().to_dict().items():\n",
    "            if val < threshold:\n",
    "                remove_vals.append(key)\n",
    "\n",
    "        new_series = []\n",
    "        for x in df[col]:\n",
    "            if x in remove_vals:\n",
    "                new_series.append('NOT TESTED')\n",
    "            else:\n",
    "                new_series.append(x)\n",
    "\n",
    "        new_df[col] = new_series\n",
    "\n",
    "    return new_df\n",
    "\n",
    "def categorize_age(my_arr):\n",
    "    '''\n",
    "    Bin age according to thresholds identified from UpToDate\n",
    "    '''\n",
    "    age_cat = []\n",
    "    for x in my_arr:\n",
    "        if pd.isna(x):\n",
    "            age_cat.append('NOT TESTED')\n",
    "        elif x < 1: # 6\n",
    "            age_cat.append('Infant')\n",
    "        elif x < 18: # 25\n",
    "            age_cat.append('Child')\n",
    "        elif x < 40: # 45\n",
    "            age_cat.append('Young Adult')\n",
    "        elif x < 65: # 65\n",
    "            age_cat.append('Adult')\n",
    "        else:\n",
    "            age_cat.append('Senior')\n",
    "    return age_cat\n",
    "\n",
    "def bin_comorbidity(my_arr):\n",
    "    '''\n",
    "    Bin Sorror comorbidity according to bins identified from HCT-CI\n",
    "    '''\n",
    "    return [str(x) if x < 4 else '4' for x in my_arr]\n",
    "\n",
    "def red_dri_score(df):\n",
    "    '''\n",
    "    Reduces the cardinality of dri_score by mapping values to one another based on similarity to target\n",
    "    '''\n",
    "    new_arr = []\n",
    "    for val in df['dri_score']:\n",
    "        if val == 'High':\n",
    "            new_arr.append('High')\n",
    "        elif val in ['High - TED AML case <missing cytogenetics', 'Intermediate', 'Intermediate - TED AML case <missing cytogenetics', 'Low']:\n",
    "            new_arr.append('Intermediate')\n",
    "        else:\n",
    "            new_arr.append('Low')\n",
    "    return new_arr\n",
    "\n",
    "def te_feature_mean(df, col):\n",
    "    '''\n",
    "    Target encode feature using mean of kaplan meier survival function\n",
    "    '''\n",
    "    mapper = df[[col, 'y_km']].groupby(col).mean().to_dict()['y_km']\n",
    "    return df[col].replace(mapper)"
   ]
  },
  {
   "cell_type": "code",
   "execution_count": 4,
   "id": "9a45b553-fe88-4ab9-9172-636eb4c5fc52",
   "metadata": {
    "tags": []
   },
   "outputs": [
    {
     "name": "stderr",
     "output_type": "stream",
     "text": [
      "C:\\Users\\kimvo\\AppData\\Local\\Temp\\ipykernel_20072\\755929577.py:72: FutureWarning: Downcasting behavior in `replace` is deprecated and will be removed in a future version. To retain the old behavior, explicitly call `result.infer_objects(copy=False)`. To opt-in to the future behavior, set `pd.set_option('future.no_silent_downcasting', True)`\n",
      "  return df[col].replace(mapper)\n",
      "C:\\Users\\kimvo\\AppData\\Local\\Temp\\ipykernel_20072\\755929577.py:72: FutureWarning: Downcasting behavior in `replace` is deprecated and will be removed in a future version. To retain the old behavior, explicitly call `result.infer_objects(copy=False)`. To opt-in to the future behavior, set `pd.set_option('future.no_silent_downcasting', True)`\n",
      "  return df[col].replace(mapper)\n",
      "C:\\Users\\kimvo\\AppData\\Local\\Temp\\ipykernel_20072\\755929577.py:72: FutureWarning: Downcasting behavior in `replace` is deprecated and will be removed in a future version. To retain the old behavior, explicitly call `result.infer_objects(copy=False)`. To opt-in to the future behavior, set `pd.set_option('future.no_silent_downcasting', True)`\n",
      "  return df[col].replace(mapper)\n",
      "C:\\Users\\kimvo\\AppData\\Local\\Temp\\ipykernel_20072\\1574158924.py:36: FutureWarning: Downcasting behavior in `replace` is deprecated and will be removed in a future version. To retain the old behavior, explicitly call `result.infer_objects(copy=False)`. To opt-in to the future behavior, set `pd.set_option('future.no_silent_downcasting', True)`\n",
      "  df['dr_sex_match'] = df['sex_match'].replace({'M-M':1, 'F-M':-1, 'M-F':-1, 'F-F':1, 'NOT TESTED':0})\n"
     ]
    }
   ],
   "source": [
    "data = pd.read_csv('../data/interim/train.csv')\n",
    "\n",
    "object_cols = list(data.columns[data.dtypes.values == 'O'])\n",
    "num_cols = data.columns[(data.dtypes.values == 'int64') | (data.dtypes.values == 'float64')].drop(['Unnamed: 0', 'ID', 'year_hct'])\n",
    "\n",
    "df = remove_rare_vals(data[object_cols])\n",
    "df[num_cols] = data[num_cols]\n",
    "df['age_at_hct_cat'] = categorize_age(data['age_at_hct'])\n",
    "df['donor_age_cat'] = categorize_age(data['donor_age'])\n",
    "df['binned_comorbidity'] = bin_comorbidity(data['comorbidity_score'])\n",
    "df['donor-pt_age'] = df['donor_age'] - df['age_at_hct']\n",
    "\n",
    "binary_cols = ['psych_disturb', 'diabetes', 'arrhythmia', 'obesity', 'in_vivo_tcd', 'hepatic_severe', \n",
    "               'prior_tumor', 'rheum_issue', 'hepatic_mild', 'cardiac', 'pulm_moderate']\n",
    "for col in binary_cols:\n",
    "    df[col] = df[col].str.replace('No', 'NOT TESTED')\n",
    "\n",
    "df['ethnicity'] = df['ethnicity'].str.replace('Not Hispanic or Latino','NOT TESTED')\n",
    "df['ethnicity'] = df['ethnicity'].str.replace('Non-resident of the U.S.','NOT TESTED')\n",
    "df = df.drop(columns='peptic_ulcer')\n",
    "\n",
    "km = KaplanMeierFitter()\n",
    "km.fit(df['efs_time'], df['efs'])\n",
    "df['y_km'] = km.survival_function_at_times(df['efs_time']).values\n",
    "\n",
    "na = NelsonAalenFitter()\n",
    "na.fit(durations=df['efs_time'], event_observed=df['efs'])\n",
    "df['y_na'] = -na.cumulative_hazard_at_times(df['efs_time']).values\n",
    "\n",
    "df['dri_score_red'] = red_dri_score(df)\n",
    "df['te_dri_score'] = te_feature_mean(df, 'dri_score')\n",
    "df['te_prim_disease_hct'] = te_feature_mean(df, 'prim_disease_hct')\n",
    "df['te_gvhd_proph'] = te_feature_mean(df, 'gvhd_proph')\n",
    "\n",
    "df['pt_sex'] = df['sex_match'].replace({'M-M':'M', 'F-M':'M', 'M-F':'F', 'F-F':'F'})\n",
    "df['dr_sex_match'] = df['sex_match'].replace({'M-M':1, 'F-M':-1, 'M-F':-1, 'F-F':1, 'NOT TESTED':0})"
   ]
  },
  {
   "cell_type": "markdown",
   "id": "2657ac22-9c0e-4be5-9f16-392b6701a08c",
   "metadata": {
    "jp-MarkdownHeadingCollapsed": true,
    "tags": []
   },
   "source": [
    "### Preprocessing and Helper Functions<a id='preprocessing_and_helper_functions'></a>"
   ]
  },
  {
   "cell_type": "code",
   "execution_count": 5,
   "id": "02c7f97e-d49d-45ee-b542-d18c2ee8781e",
   "metadata": {
    "tags": []
   },
   "outputs": [],
   "source": [
    "class OneHotNan(BaseEstimator, TransformerMixin):\n",
    "    def fit(self, X, y=None):\n",
    "        return self\n",
    "    def transform(self, X):\n",
    "        ohe = OneHotEncoder(sparse_output=False)\n",
    "        X_oh = ohe.fit_transform(X)\n",
    "        \n",
    "        if True not in pd.isnull(ohe.categories_):\n",
    "            X_oh = pd.DataFrame(X_oh, columns=ohe.categories_[0])\n",
    "        if True in pd.isnull(ohe.categories_):\n",
    "            for ind, val in enumerate(ohe.categories_[0]):\n",
    "                if pd.isnull(val):\n",
    "                    nan_col = ind\n",
    "            nan_rows = [ind for ind, val in enumerate(X_oh[:, nan_col]) if val > 0]\n",
    "\n",
    "            X_oh = pd.DataFrame(X_oh, columns=ohe.categories_[0])\n",
    "            X_oh.loc[nan_rows,:] = pd.NA\n",
    "            X_oh = X_oh.drop(columns=ohe.categories_[0][nan_col])\n",
    "        return X_oh\n",
    "\n",
    "class CategoricalTransformer(BaseEstimator, TransformerMixin):\n",
    "    def __init__(self, columns=None):\n",
    "        self.columns = columns\n",
    "    def fit(self, X, y=None):\n",
    "        return self\n",
    "    def transform(self, X):\n",
    "        OH_NaN = OneHotNan()\n",
    "\n",
    "        X_cat = pd.DataFrame()\n",
    "        for cat_col in self.columns:\n",
    "            df = OH_NaN.fit_transform(X[[cat_col]])\n",
    "\n",
    "            new_cols = [cat_col+'_'+s for s in df.columns]\n",
    "            X_cat = pd.concat([X_cat, df.rename(columns=dict(zip(df.columns, new_cols)))], axis=1)\n",
    "\n",
    "        X_cat = X_cat.drop(columns=X_cat.columns[pd.Series(X_cat.columns.values).str.contains('NOT TESTED')])\n",
    "\n",
    "        return X_cat\n",
    "\n",
    "class NumericalTransformer(BaseEstimator, TransformerMixin):\n",
    "    def __init__(self, columns=None):\n",
    "        self.columns = columns\n",
    "    def fit(self, X, y=None):\n",
    "        return self\n",
    "    def transform(self, X):\n",
    "        scaler = StandardScaler()\n",
    "        X_num = pd.DataFrame(scaler.fit_transform(X[self.columns]), columns=self.columns)\n",
    "        return X_num"
   ]
  },
  {
   "cell_type": "code",
   "execution_count": 6,
   "id": "12079068-8045-40eb-a3e9-314242e34d8c",
   "metadata": {
    "tags": []
   },
   "outputs": [],
   "source": [
    "def preprocess_risk(df):\n",
    "    feature_union = FeatureUnion([\n",
    "        ('cat_trans', CategoricalTransformer(columns=['dri_score_red', 'cyto_score', 'cyto_score_detail'])),\n",
    "        ('num_trans', NumericalTransformer(columns=['binned_comorbidity', 'karnofsky_score']))\n",
    "    ])\n",
    "    knn_impute_pipe = Pipeline([\n",
    "        ('features', feature_union),\n",
    "        ('knn_impute', SimpleImputer())\n",
    "    ])\n",
    "\n",
    "    df_imputed = knn_impute_pipe.fit_transform(df)\n",
    "\n",
    "    transformers = ['cat_trans', 'num_trans']\n",
    "    cols = []\n",
    "    for trans in transformers:\n",
    "        trans_cols = knn_impute_pipe['features'][trans].transform(df).columns.values\n",
    "        cols.extend(trans_cols)\n",
    "\n",
    "    df_imputed = pd.DataFrame(df_imputed, columns=cols)\n",
    "    \n",
    "    return knn_impute_pipe, df_imputed\n",
    "\n",
    "def preprocess_patient(df):\n",
    "    patient_pipe = Pipeline([\n",
    "        ('features', FeatureUnion([\n",
    "            ('patient_cat', CategoricalTransformer(columns=['psych_disturb', 'diabetes', 'arrhythmia', 'prim_disease_hct', \n",
    "                                                      'ethnicity', 'obesity', 'in_vivo_tcd', 'hepatic_severe', 'prior_tumor', 'rheum_issue',\n",
    "                                                      'race_group', 'hepatic_mild', 'cardiac', 'pulm_moderate'])),\n",
    "            ('patient_num', NumericalTransformer(columns=['binned_comorbidity']))\n",
    "        ]))\n",
    "    ])\n",
    "\n",
    "    df_trans = patient_pipe.fit_transform(df)\n",
    "\n",
    "    cols = []\n",
    "    transformers = ['patient_cat', 'patient_num']\n",
    "    for trans in transformers:\n",
    "        trans_cols = patient_pipe['features'][trans].transform(df).columns.values\n",
    "        cols.extend(trans_cols)\n",
    "    \n",
    "    return patient_pipe, pd.DataFrame(df_trans, columns=cols)\n",
    "\n",
    "def preprocess_dr(df):\n",
    "    dr_num_pipe = Pipeline([\n",
    "        ('dr_num', NumericalTransformer(columns=df.columns[df.columns.str.match('hla')].to_list())),\n",
    "        ('impute_num', SimpleImputer()),\n",
    "        ('pca_num', PCA(n_components=0.95, svd_solver='full'))\n",
    "    ])\n",
    "    dr_features = FeatureUnion([\n",
    "        ('dr_cat', CategoricalTransformer(columns=['tce_match', 'tce_imm_match', 'cmv_status', 'sex_match', 'donor_related'])),\n",
    "        ('dr_num', dr_num_pipe)\n",
    "    ])\n",
    "    dr_pipe = Pipeline([\n",
    "        ('features', dr_features),\n",
    "        ('impute', SimpleImputer())\n",
    "    ])\n",
    "    \n",
    "    df_trans = dr_pipe.fit_transform(df)\n",
    "\n",
    "    cols = dr_pipe['features']['dr_cat'].transform(df).columns.to_list()\n",
    "    cols.extend(['pca_'+str(i) for i in range(1, dr_pipe['features']['dr_num'].transform(df).shape[1]+1)])\n",
    "\n",
    "    df_trans = pd.DataFrame(df_trans, columns=cols)\n",
    "\n",
    "    return dr_pipe, df_trans\n",
    "\n",
    "def preprocess_hct(df):\n",
    "    hct_pipe = Pipeline([\n",
    "        ('features', FeatureUnion([\n",
    "            ('hct_cat', CategoricalTransformer(columns=['graft_type', 'tbi_status', 'mrd_hct', 'melphalan_dose', 'age_at_hct_cat', 'rituximab', \n",
    "                                                        'conditioning_intensity', 'donor_age_cat'])),\n",
    "            ('hct_num', NumericalTransformer(columns=['te_gvhd_proph']))\n",
    "        ]))\n",
    "    ])\n",
    "\n",
    "    df_trans = hct_pipe.fit_transform(df)\n",
    "\n",
    "    transformers = ['hct_cat', 'hct_num']\n",
    "    cols = []\n",
    "    for trans in transformers:\n",
    "        trans_cols = hct_pipe['features'][trans].transform(df).columns.values\n",
    "        cols.extend(trans_cols)\n",
    "\n",
    "    df_trans = pd.DataFrame(df_trans, columns=cols)\n",
    "\n",
    "    return hct_pipe, df_trans\n",
    "\n",
    "def preprocess_X(x_train, x_test, processors):\n",
    "    '''\n",
    "    Wrapper function to process any combination of risk, patient, donor/recipient, and hct data\n",
    "    Processors array-like containing function calls\n",
    "    Returns list of training and testing data\n",
    "    '''\n",
    "    train_set = []\n",
    "    test_set = []\n",
    "    for p in processors:\n",
    "        pipe, processedx_train = p(x_train)\n",
    "        processedx_test = pd.DataFrame(pipe.transform(x_test), columns=processedx_train.columns)\n",
    "\n",
    "        train_set.append(processedx_train)\n",
    "        test_set.append(processedx_test)\n",
    "\n",
    "    return train_set, test_set"
   ]
  },
  {
   "cell_type": "code",
   "execution_count": 7,
   "id": "0896bf77-e943-4dfb-9830-8b0b7ae66840",
   "metadata": {
    "tags": []
   },
   "outputs": [],
   "source": [
    "def gen_r_model(riskx_train, n_fold):\n",
    "    input_risk = keras.Input(shape=(riskx_train.shape[1],), name='risk_input')\n",
    "    x = layers.Dense(riskx_train.shape[1],activation='relu', name='risk_dense1')(input_risk)\n",
    "    # x = layers.BatchNormalization(name='risk_bn1')(x)\n",
    "    # x = layers.Dropout(0.1, name='risk_dropout1')(x)\n",
    "    x = layers.Dense(int(riskx_train.shape[1]/2), activation='relu', name='risk_dense2')(x)\n",
    "    x = layers.Dropout(0.1, name='risk_dropout2')(x)\n",
    "    x = layers.BatchNormalization(name='risk_bn2')(x)\n",
    "    x = layers.Dense(4,activation='relu', name='risk_dense3')(x)\n",
    "    output_risk = layers.Dense(1, activation='sigmoid', name='risk_out')(x)\n",
    "\n",
    "    model = keras.Model(inputs=input_risk, outputs=output_risk, name='risk_model')\n",
    "\n",
    "    model.compile(\n",
    "        optimizer='adam',\n",
    "        loss='mean_squared_error',\n",
    "        metrics=['accuracy', 'mse', 'mae']\n",
    "    )\n",
    "    return model\n",
    "\n",
    "def gen_rp_model(patientx_train, n_fold):\n",
    "    patient_shape = patientx_train.shape[1]\n",
    "    risk_model = keras.models.load_model('../models/risk_model_'+str(n_fold)+'fold.keras')\n",
    "    risk_model.trainable = False\n",
    "\n",
    "    input_patient = keras.Input(shape=(patient_shape,), name='patient_input')\n",
    "    x = layers.Dense(patient_shape,activation='relu',name='patient_dense1')(input_patient)\n",
    "    # x = layers.BatchNormalization(name='patient_bn1')(x)\n",
    "    # x = layers.Dropout(0.1,name='patient_dropout1')(x)\n",
    "    x = layers.Dense(int(patient_shape/2),activation='relu',name='patient_dense2')(x)\n",
    "    x = layers.Dropout(0.1,name='patient_dropout2')(x)\n",
    "    x = layers.BatchNormalization(name='patient_bn2')(x)\n",
    "    x = layers.Dense(4,activation='relu',name='patient_dense3')(x)\n",
    "\n",
    "    z = layers.Concatenate(axis=1, name='rp_concat')([risk_model.layers[-2].output, x])\n",
    "    z = layers.BatchNormalization(name='rp_bn')(z)\n",
    "    # z = layers.Dropout(0.1, name='rp_dropout')(z)\n",
    "    z = layers.Dense(4, activation='relu', name='rp_dense')(z)\n",
    "    output = layers.Dense(1, activation='sigmoid', name='rp_out')(z)\n",
    "\n",
    "    ensemble_model = keras.Model(inputs=[risk_model.inputs, input_patient], outputs=output, \n",
    "                                 name='rp_model_'+str(n_fold)+'fold.keras')\n",
    "\n",
    "    ensemble_model.compile(\n",
    "        optimizer='adam',\n",
    "        loss='mean_squared_error',\n",
    "        metrics=['accuracy', 'mse', 'mae']\n",
    "    )\n",
    "    return ensemble_model\n",
    "\n",
    "def gen_rpd_model(drx_train, n_fold):\n",
    "    dr_shape = drx_train.shape[1]\n",
    "    rp_model = keras.models.load_model('../models/rp_model_'+str(n_fold)+'fold.keras')\n",
    "    rp_model.trainable = False\n",
    "\n",
    "    input_dr = keras.Input(shape=(dr_shape,), name='dr_input')\n",
    "    x_dr = layers.Dense(dr_shape, activation='relu', name='dr_dense1')(input_dr)\n",
    "    # x_dr = layers.BatchNormalization(name='dr_bn1')(x_dr)\n",
    "    # x_dr = layers.Dropout(0.1,name='dr_dropout1')(x_dr)\n",
    "    x_dr = layers.Dense(int(dr_shape/3),activation='relu',name='dr_dense2')(x_dr)\n",
    "    x_dr = layers.Dropout(0.1,name='dr_dropout2')(x_dr)\n",
    "    x_dr = layers.BatchNormalization(name='dr_bn2')(x_dr)\n",
    "    x_dr = layers.Dense(4,activation='relu',name='dr_dense3')(x_dr)\n",
    "\n",
    "    z = layers.Concatenate(axis=1, name='rpd_concat')([rp_model.layers[-4].output, x_dr])\n",
    "    z = layers.BatchNormalization(name='rpd_bn')(z)\n",
    "    # z = layers.Dropout(0.1, name='rpd_dropout')(z)\n",
    "    z = layers.Dense(4, activation='relu', name='rpd_dense')(z)\n",
    "    output = layers.Dense(1, activation='sigmoid', name='rpd_out')(z)\n",
    "\n",
    "    ensemble_model = keras.Model(inputs=[rp_model.inputs, input_dr], outputs=output, \n",
    "                                 name='rpd_model_'+str(n_fold)+'fold.keras')\n",
    "\n",
    "    ensemble_model.compile(\n",
    "        optimizer='adam',\n",
    "        loss='mean_squared_error',\n",
    "        metrics=['accuracy', 'mse', 'mae']\n",
    "    )\n",
    "    return ensemble_model\n",
    "\n",
    "def gen_rpdh_model(hctx_train, n_fold):    \n",
    "    hct_shape = hctx_train.shape[1]\n",
    "    rpd_model = keras.models.load_model('../models/rpd_model_'+str(n_fold)+'fold.keras')\n",
    "    rpd_model.trainable = False\n",
    "\n",
    "    input_hct = keras.Input(shape=(hct_shape,), name='hct_input')\n",
    "    x_hct = layers.Dense(hct_shape, activation='relu', name='hct_dense1')(input_hct)\n",
    "    # x_hct = layers.BatchNormalization(name='hct_bn1')(x_hct)\n",
    "    # x_hct = layers.Dropout(0.1,name='hct_dropout1')(x_hct)\n",
    "    x_hct = layers.Dense(int(hct_shape/2), activation='relu', name='hct_dense2')(x_hct)\n",
    "    x_hct = layers.Dropout(0.1,name='hct_dropout2')(x_hct)\n",
    "    x_hct = layers.BatchNormalization(name='hct_bn2')(x_hct)\n",
    "    x_hct = layers.Dense(4, activation='relu', name='hct_dense3')(x_hct)\n",
    "\n",
    "    z = layers.Concatenate(axis=1, name='rpdh_concat')([rpd_model.layers[-4].output, x_hct])\n",
    "    z = layers.BatchNormalization(name='rpdh_bn')(z)\n",
    "    # z = layers.Dropout(0.1, name='rpdh_dropout')(z)\n",
    "    z = layers.Dense(4, activation='relu', name='rpdh_dense1')(z)\n",
    "    # z = layers.BatchNormalization(name='rpdh_bn1')(z)\n",
    "    # z = layers.Dropout(0.1, name='rpdh_dropout1')(z)\n",
    "    # z = layers.Dense(4, activation='relu', name='rpdh_dense2')(z)\n",
    "    output = layers.Dense(1, activation='sigmoid', name='rpdh_out')(z)\n",
    "\n",
    "    ensemble_model = keras.Model(inputs=[rpd_model.inputs, input_hct], outputs=output, \n",
    "                                 name='rpdh_model_'+str(n_fold)+'fold.keras')\n",
    "\n",
    "    ensemble_model.compile(\n",
    "        optimizer='adam',\n",
    "        loss='mean_squared_error',\n",
    "        metrics=['accuracy', 'mse', 'mae']\n",
    "    )\n",
    "    return ensemble_model"
   ]
  },
  {
   "cell_type": "code",
   "execution_count": 8,
   "id": "2a7100be-78b4-4731-8be2-1b71bbc336c9",
   "metadata": {
    "tags": []
   },
   "outputs": [],
   "source": [
    "def cross_validate(gen_model, processors, X, Y, n=5, shuffle=True, random_state=0, save_model=False, name='rpdh'):\n",
    "    kf = StratifiedKFold(n_splits=n, shuffle=shuffle, random_state=random_state)\n",
    "    callback = EarlyStopping(monitor='val_loss', mode='min', patience=10, verbose=1)\n",
    "    pred = pd.Series(index=Y.index, name=Y.name+'_pred')\n",
    "    cv_scores = defaultdict(int)\n",
    "\n",
    "    for k, (train_index, test_index) in enumerate(kf.split(X, X['efs'])):\n",
    "        x_train, x_test = X.loc[train_index], X.loc[test_index]\n",
    "        y_train, y_test = Y.loc[train_index], Y.loc[test_index]\n",
    "        \n",
    "        train_sets, test_sets = preprocess_X(x_train, x_test, processors)\n",
    "\n",
    "        model = gen_model(train_sets[-1], str(k))\n",
    "        \n",
    "        if save_model:\n",
    "            callback_save = ModelCheckpoint(filepath = '../models/'+name+'_model_'+str(k)+'fold.keras', monitor='val_loss', save_best_only=True)\n",
    "            history = model.fit(x=train_sets, y=y_train, batch_size=128, epochs=1000, validation_data=(test_sets, y_test), verbose=0, callbacks=[callback_save, callback])\n",
    "        else:\n",
    "            history = model.fit(x=train_sets, y=y_train, batch_size=128, epochs=1000, validation_data=(test_sets, y_test), verbose=0, callbacks=callback)\n",
    "\n",
    "        pred.loc[test_index] = model.predict(test_sets).reshape(-1)\n",
    "        for key in history.history.keys():\n",
    "            cv_scores[key] += history.history[key][-1]/n\n",
    "\n",
    "    return pred, cv_scores"
   ]
  },
  {
   "cell_type": "code",
   "execution_count": 9,
   "id": "aff933a2-3dfd-4b79-876a-ca3c3fd7c3b0",
   "metadata": {
    "tags": []
   },
   "outputs": [],
   "source": [
    "def trap_int(x, y):\n",
    "    dx = x[1:]-x[:-1]\n",
    "    mean_ys = (y[1:]+y[:-1])/2\n",
    "    \n",
    "    return sum(dx*mean_ys)"
   ]
  },
  {
   "cell_type": "markdown",
   "id": "da864bfa-6386-49ec-98e4-0fbc6ad28bcd",
   "metadata": {},
   "source": [
    "## Training a Multimodal Neural Network<a id='training_a_multimodal_neural_network'></a>"
   ]
  },
  {
   "cell_type": "markdown",
   "id": "c232c422-024b-4966-8a5d-332d9ff00954",
   "metadata": {
    "jp-MarkdownHeadingCollapsed": true,
    "tags": []
   },
   "source": [
    "### Risk Model<a id='risk_model'></a>"
   ]
  },
  {
   "cell_type": "code",
   "execution_count": 10,
   "id": "163ce28f-dbf6-4db8-9d80-17f06ca15888",
   "metadata": {
    "tags": []
   },
   "outputs": [
    {
     "name": "stdout",
     "output_type": "stream",
     "text": [
      "WARNING:tensorflow:From C:\\Users\\kimvo\\anaconda3\\Lib\\site-packages\\keras\\src\\backend.py:1398: The name tf.executing_eagerly_outside_functions is deprecated. Please use tf.compat.v1.executing_eagerly_outside_functions instead.\n",
      "\n",
      "WARNING:tensorflow:From C:\\Users\\kimvo\\anaconda3\\Lib\\site-packages\\keras\\src\\optimizers\\__init__.py:309: The name tf.train.Optimizer is deprecated. Please use tf.compat.v1.train.Optimizer instead.\n",
      "\n",
      "WARNING:tensorflow:From C:\\Users\\kimvo\\anaconda3\\Lib\\site-packages\\keras\\src\\utils\\tf_utils.py:492: The name tf.ragged.RaggedTensorValue is deprecated. Please use tf.compat.v1.ragged.RaggedTensorValue instead.\n",
      "\n",
      "WARNING:tensorflow:From C:\\Users\\kimvo\\anaconda3\\Lib\\site-packages\\keras\\src\\engine\\base_layer_utils.py:384: The name tf.executing_eagerly_outside_functions is deprecated. Please use tf.compat.v1.executing_eagerly_outside_functions instead.\n",
      "\n",
      "Epoch 37: early stopping\n",
      "180/180 [==============================] - 1s 4ms/step\n",
      "Epoch 43: early stopping\n",
      "180/180 [==============================] - 1s 2ms/step\n",
      "Epoch 63: early stopping\n",
      "180/180 [==============================] - 0s 2ms/step\n",
      "Epoch 44: early stopping\n",
      "180/180 [==============================] - 0s 2ms/step\n",
      "Epoch 32: early stopping\n",
      "180/180 [==============================] - 0s 2ms/step\n"
     ]
    }
   ],
   "source": [
    "pred, scores = cross_validate(gen_r_model, [preprocess_risk], df, df['efs'], save_model=True, name='risk')"
   ]
  },
  {
   "cell_type": "code",
   "execution_count": 11,
   "id": "64da36c8-4907-4c88-a3a4-a5d2a203ec74",
   "metadata": {
    "tags": []
   },
   "outputs": [
    {
     "data": {
      "text/plain": [
       "defaultdict(int,\n",
       "            {'loss': 0.22711472511291503,\n",
       "             'accuracy': 0.6281076431274414,\n",
       "             'mse': 0.22711472511291503,\n",
       "             'mae': 0.45407114624977113,\n",
       "             'val_loss': 0.22771428823471068,\n",
       "             'val_accuracy': 0.6276388883590699,\n",
       "             'val_mse': 0.22771428823471068,\n",
       "             'val_mae': 0.4560217618942261})"
      ]
     },
     "execution_count": 11,
     "metadata": {},
     "output_type": "execute_result"
    }
   ],
   "source": [
    "scores"
   ]
  },
  {
   "cell_type": "code",
   "execution_count": 12,
   "id": "3dfcb620-1d6d-49e6-afde-53041911c7b6",
   "metadata": {
    "tags": []
   },
   "outputs": [
    {
     "name": "stderr",
     "output_type": "stream",
     "text": [
      "C:\\Users\\kimvo\\anaconda3\\Lib\\site-packages\\seaborn\\_oldcore.py:1119: FutureWarning: use_inf_as_na option is deprecated and will be removed in a future version. Convert inf values to NaN before operating instead.\n",
      "  with pd.option_context('mode.use_inf_as_na', True):\n",
      "C:\\Users\\kimvo\\anaconda3\\Lib\\site-packages\\seaborn\\_oldcore.py:1075: FutureWarning: When grouping with a length-1 list-like, you will need to pass a length-1 tuple to get_group in a future version of pandas. Pass `(name,)` instead of `name` to silence this warning.\n",
      "  data_subset = grouped_data.get_group(pd_key)\n",
      "C:\\Users\\kimvo\\anaconda3\\Lib\\site-packages\\seaborn\\_oldcore.py:1075: FutureWarning: When grouping with a length-1 list-like, you will need to pass a length-1 tuple to get_group in a future version of pandas. Pass `(name,)` instead of `name` to silence this warning.\n",
      "  data_subset = grouped_data.get_group(pd_key)\n",
      "C:\\Users\\kimvo\\anaconda3\\Lib\\site-packages\\seaborn\\_oldcore.py:1075: FutureWarning: When grouping with a length-1 list-like, you will need to pass a length-1 tuple to get_group in a future version of pandas. Pass `(name,)` instead of `name` to silence this warning.\n",
      "  data_subset = grouped_data.get_group(pd_key)\n"
     ]
    },
    {
     "data": {
      "text/plain": [
       "<Axes: xlabel='efs_pred', ylabel='Count'>"
      ]
     },
     "execution_count": 12,
     "metadata": {},
     "output_type": "execute_result"
    },
    {
     "data": {
      "image/png": "[encoded data removed]",
      "text/plain": [
       "<Figure size 400x300 with 1 Axes>"
      ]
     },
     "metadata": {},
     "output_type": "display_data"
    }
   ],
   "source": [
    "df_pred = pd.concat([df['efs'], pred], axis=1)\n",
    "sns.histplot(df_pred, x='efs_pred', hue='efs')"
   ]
  },
  {
   "cell_type": "code",
   "execution_count": 13,
   "id": "94686c79-e71c-4ed8-a877-87b392d29577",
   "metadata": {
    "tags": []
   },
   "outputs": [
    {
     "name": "stdout",
     "output_type": "stream",
     "text": [
      "AUC:  0.6622350350479898\n"
     ]
    },
    {
     "data": {
      "image/png": "[encoded data removed]",
      "text/plain": [
       "<Figure size 400x300 with 1 Axes>"
      ]
     },
     "metadata": {},
     "output_type": "display_data"
    }
   ],
   "source": [
    "fpr, tpr, thresholds = roc_curve(df['efs'], pred)\n",
    "\n",
    "plt.plot(fpr, tpr)\n",
    "plt.xlabel('False Positive Rate')\n",
    "plt.ylabel('True Positive Rate')\n",
    "print('AUC: ', trap_int(fpr, tpr))"
   ]
  },
  {
   "cell_type": "markdown",
   "id": "e93d38f1-f0ad-4549-bdba-1ef47be79a14",
   "metadata": {
    "jp-MarkdownHeadingCollapsed": true,
    "tags": []
   },
   "source": [
    "### Risk and Patient Model<a id='risk_and_patient_model'></a>"
   ]
  },
  {
   "cell_type": "code",
   "execution_count": 14,
   "id": "45829318-232c-4273-b159-f46ff1d097e5",
   "metadata": {
    "tags": []
   },
   "outputs": [
    {
     "name": "stdout",
     "output_type": "stream",
     "text": [
      "Epoch 21: early stopping\n",
      "180/180 [==============================] - 1s 2ms/step\n",
      "Epoch 19: early stopping\n",
      "180/180 [==============================] - 1s 2ms/step\n",
      "Epoch 18: early stopping\n",
      "180/180 [==============================] - 1s 2ms/step\n",
      "Epoch 25: early stopping\n",
      "180/180 [==============================] - 1s 2ms/step\n",
      "Epoch 23: early stopping\n",
      "180/180 [==============================] - 1s 2ms/step\n"
     ]
    }
   ],
   "source": [
    "pred, scores = cross_validate(gen_rp_model, [preprocess_risk, preprocess_patient], df, df['efs'], save_model=True, name='rp')"
   ]
  },
  {
   "cell_type": "code",
   "execution_count": 15,
   "id": "2cddcb72-dab3-4ade-93c9-e828c2f275e6",
   "metadata": {
    "tags": []
   },
   "outputs": [
    {
     "data": {
      "text/plain": [
       "defaultdict(int,\n",
       "            {'loss': 0.2151710867881775,\n",
       "             'accuracy': 0.6562326312065124,\n",
       "             'mse': 0.2151710867881775,\n",
       "             'mae': 0.4301379323005677,\n",
       "             'val_loss': 0.22260648310184478,\n",
       "             'val_accuracy': 0.641527783870697,\n",
       "             'val_mse': 0.22260648310184478,\n",
       "             'val_mae': 0.4381578981876374})"
      ]
     },
     "execution_count": 15,
     "metadata": {},
     "output_type": "execute_result"
    }
   ],
   "source": [
    "scores"
   ]
  },
  {
   "cell_type": "code",
   "execution_count": 16,
   "id": "d8225cef-c8b6-4cb2-97ba-6a802a8f8817",
   "metadata": {
    "tags": []
   },
   "outputs": [
    {
     "name": "stderr",
     "output_type": "stream",
     "text": [
      "C:\\Users\\kimvo\\anaconda3\\Lib\\site-packages\\seaborn\\_oldcore.py:1119: FutureWarning: use_inf_as_na option is deprecated and will be removed in a future version. Convert inf values to NaN before operating instead.\n",
      "  with pd.option_context('mode.use_inf_as_na', True):\n",
      "C:\\Users\\kimvo\\anaconda3\\Lib\\site-packages\\seaborn\\_oldcore.py:1075: FutureWarning: When grouping with a length-1 list-like, you will need to pass a length-1 tuple to get_group in a future version of pandas. Pass `(name,)` instead of `name` to silence this warning.\n",
      "  data_subset = grouped_data.get_group(pd_key)\n",
      "C:\\Users\\kimvo\\anaconda3\\Lib\\site-packages\\seaborn\\_oldcore.py:1075: FutureWarning: When grouping with a length-1 list-like, you will need to pass a length-1 tuple to get_group in a future version of pandas. Pass `(name,)` instead of `name` to silence this warning.\n",
      "  data_subset = grouped_data.get_group(pd_key)\n",
      "C:\\Users\\kimvo\\anaconda3\\Lib\\site-packages\\seaborn\\_oldcore.py:1075: FutureWarning: When grouping with a length-1 list-like, you will need to pass a length-1 tuple to get_group in a future version of pandas. Pass `(name,)` instead of `name` to silence this warning.\n",
      "  data_subset = grouped_data.get_group(pd_key)\n"
     ]
    },
    {
     "data": {
      "text/plain": [
       "<Axes: xlabel='efs_pred', ylabel='Count'>"
      ]
     },
     "execution_count": 16,
     "metadata": {},
     "output_type": "execute_result"
    },
    {
     "data": {
      "image/png": "[encoded data removed]",
      "text/plain": [
       "<Figure size 400x300 with 1 Axes>"
      ]
     },
     "metadata": {},
     "output_type": "display_data"
    }
   ],
   "source": [
    "df_pred = pd.concat([df['efs'], pred], axis=1)\n",
    "sns.histplot(df_pred, x='efs_pred', hue='efs')"
   ]
  },
  {
   "cell_type": "code",
   "execution_count": 17,
   "id": "d63ef9c6-63cd-4846-b0c6-dd1eb7c6a953",
   "metadata": {
    "tags": []
   },
   "outputs": [
    {
     "name": "stdout",
     "output_type": "stream",
     "text": [
      "AUC:  0.6804566065130415\n"
     ]
    },
    {
     "data": {
      "image/png": "[encoded data removed]",
      "text/plain": [
       "<Figure size 400x300 with 1 Axes>"
      ]
     },
     "metadata": {},
     "output_type": "display_data"
    }
   ],
   "source": [
    "fpr, tpr, thresholds = roc_curve(df['efs'], pred)\n",
    "\n",
    "plt.plot(fpr, tpr)\n",
    "plt.xlabel('False Positive Rate')\n",
    "plt.ylabel('True Positive Rate')\n",
    "print('AUC: ', trap_int(fpr, tpr))"
   ]
  },
  {
   "cell_type": "markdown",
   "id": "e932bd31-abb7-45fc-aa6d-538fc2bc7f58",
   "metadata": {
    "jp-MarkdownHeadingCollapsed": true,
    "tags": []
   },
   "source": [
    "### Risk, Patient, and Donor/Recipient Model <a id='risk_patient_and_donorrecipient_model'></a>"
   ]
  },
  {
   "cell_type": "code",
   "execution_count": 18,
   "id": "9446cf7c-35f8-4e85-9727-b51c601b36d0",
   "metadata": {
    "tags": []
   },
   "outputs": [
    {
     "name": "stdout",
     "output_type": "stream",
     "text": [
      "Epoch 26: early stopping\n",
      "180/180 [==============================] - 1s 2ms/step\n",
      "Epoch 31: early stopping\n",
      "180/180 [==============================] - 1s 2ms/step\n",
      "Epoch 27: early stopping\n",
      "180/180 [==============================] - 1s 2ms/step\n",
      "Epoch 28: early stopping\n",
      "180/180 [==============================] - 1s 2ms/step\n",
      "Epoch 32: early stopping\n",
      "180/180 [==============================] - 1s 2ms/step\n"
     ]
    }
   ],
   "source": [
    "pred, scores = cross_validate(gen_rpd_model, [preprocess_risk, preprocess_patient, preprocess_dr], df, df['efs'], save_model=True, name='rpd')"
   ]
  },
  {
   "cell_type": "code",
   "execution_count": 19,
   "id": "550b36ff-1881-4dc5-9714-4f32e18fcf96",
   "metadata": {
    "tags": []
   },
   "outputs": [
    {
     "data": {
      "text/plain": [
       "defaultdict(int,\n",
       "            {'loss': 0.20824485123157502,\n",
       "             'accuracy': 0.6714062690734863,\n",
       "             'mse': 0.20824485123157502,\n",
       "             'mae': 0.41643663048744206,\n",
       "             'val_loss': 0.21840436160564422,\n",
       "             'val_accuracy': 0.6507638812065124,\n",
       "             'val_mse': 0.21840436160564422,\n",
       "             'val_mae': 0.427557373046875})"
      ]
     },
     "execution_count": 19,
     "metadata": {},
     "output_type": "execute_result"
    }
   ],
   "source": [
    "scores"
   ]
  },
  {
   "cell_type": "code",
   "execution_count": 20,
   "id": "d543e3cb-d9bf-43ab-8946-8a918384f8f9",
   "metadata": {
    "tags": []
   },
   "outputs": [
    {
     "name": "stderr",
     "output_type": "stream",
     "text": [
      "C:\\Users\\kimvo\\anaconda3\\Lib\\site-packages\\seaborn\\_oldcore.py:1119: FutureWarning: use_inf_as_na option is deprecated and will be removed in a future version. Convert inf values to NaN before operating instead.\n",
      "  with pd.option_context('mode.use_inf_as_na', True):\n",
      "C:\\Users\\kimvo\\anaconda3\\Lib\\site-packages\\seaborn\\_oldcore.py:1075: FutureWarning: When grouping with a length-1 list-like, you will need to pass a length-1 tuple to get_group in a future version of pandas. Pass `(name,)` instead of `name` to silence this warning.\n",
      "  data_subset = grouped_data.get_group(pd_key)\n",
      "C:\\Users\\kimvo\\anaconda3\\Lib\\site-packages\\seaborn\\_oldcore.py:1075: FutureWarning: When grouping with a length-1 list-like, you will need to pass a length-1 tuple to get_group in a future version of pandas. Pass `(name,)` instead of `name` to silence this warning.\n",
      "  data_subset = grouped_data.get_group(pd_key)\n",
      "C:\\Users\\kimvo\\anaconda3\\Lib\\site-packages\\seaborn\\_oldcore.py:1075: FutureWarning: When grouping with a length-1 list-like, you will need to pass a length-1 tuple to get_group in a future version of pandas. Pass `(name,)` instead of `name` to silence this warning.\n",
      "  data_subset = grouped_data.get_group(pd_key)\n"
     ]
    },
    {
     "data": {
      "text/plain": [
       "<Axes: xlabel='efs_pred', ylabel='Count'>"
      ]
     },
     "execution_count": 20,
     "metadata": {},
     "output_type": "execute_result"
    },
    {
     "data": {
      "image/png": "[encoded data removed]",
      "text/plain": [
       "<Figure size 400x300 with 1 Axes>"
      ]
     },
     "metadata": {},
     "output_type": "display_data"
    }
   ],
   "source": [
    "df_pred = pd.concat([df['efs'], pred], axis=1)\n",
    "sns.histplot(df_pred, x='efs_pred', hue='efs')"
   ]
  },
  {
   "cell_type": "code",
   "execution_count": 21,
   "id": "761fb0e5-ba74-4d3a-a032-8926f6c74da9",
   "metadata": {
    "tags": []
   },
   "outputs": [
    {
     "name": "stdout",
     "output_type": "stream",
     "text": [
      "AUC:  0.698506420677129\n"
     ]
    },
    {
     "data": {
      "image/png": "[encoded data removed]",
      "text/plain": [
       "<Figure size 400x300 with 1 Axes>"
      ]
     },
     "metadata": {},
     "output_type": "display_data"
    }
   ],
   "source": [
    "fpr, tpr, thresholds = roc_curve(df['efs'], pred)\n",
    "\n",
    "plt.plot(fpr, tpr)\n",
    "plt.xlabel('False Positive Rate')\n",
    "plt.ylabel('True Positive Rate')\n",
    "print('AUC: ', trap_int(fpr, tpr))"
   ]
  },
  {
   "cell_type": "markdown",
   "id": "4cff88cd-9fde-4431-a5b6-c7cae1d0ea56",
   "metadata": {
    "jp-MarkdownHeadingCollapsed": true,
    "tags": []
   },
   "source": [
    "### Risk, Patient, Donor/Recipient, and HCT Model<a id='risk_patient_donorrecipient_and_hct_model'></a>"
   ]
  },
  {
   "cell_type": "code",
   "execution_count": 22,
   "id": "3eced2b0-ceb7-42f9-b9a8-a3b209a253b3",
   "metadata": {
    "tags": []
   },
   "outputs": [
    {
     "name": "stdout",
     "output_type": "stream",
     "text": [
      "Epoch 32: early stopping\n",
      "180/180 [==============================] - 1s 2ms/step\n",
      "Epoch 21: early stopping\n",
      "180/180 [==============================] - 1s 2ms/step\n",
      "Epoch 24: early stopping\n",
      "180/180 [==============================] - 2s 7ms/step\n",
      "Epoch 28: early stopping\n",
      "180/180 [==============================] - 1s 2ms/step\n",
      "Epoch 34: early stopping\n",
      "180/180 [==============================] - 1s 2ms/step\n"
     ]
    }
   ],
   "source": [
    "pred, scores = cross_validate(gen_rpdh_model, [preprocess_risk, preprocess_patient, preprocess_dr, preprocess_hct], df, df['efs'], save_model=True, name='rpdh')"
   ]
  },
  {
   "cell_type": "code",
   "execution_count": 23,
   "id": "c1e171d9-edd8-4006-ae20-a9f34c1c0aad",
   "metadata": {
    "tags": []
   },
   "outputs": [
    {
     "data": {
      "text/plain": [
       "defaultdict(int,\n",
       "            {'loss': 0.20147151052951812,\n",
       "             'accuracy': 0.6876736044883728,\n",
       "             'mse': 0.20147151052951812,\n",
       "             'mae': 0.4026386380195618,\n",
       "             'val_loss': 0.2121697187423706,\n",
       "             'val_accuracy': 0.6619791626930236,\n",
       "             'val_mse': 0.2121697187423706,\n",
       "             'val_mae': 0.4149495303630829})"
      ]
     },
     "execution_count": 23,
     "metadata": {},
     "output_type": "execute_result"
    }
   ],
   "source": [
    "scores"
   ]
  },
  {
   "cell_type": "code",
   "execution_count": 24,
   "id": "6cc99a80-1609-4ac4-b0cd-21edaa617767",
   "metadata": {
    "tags": []
   },
   "outputs": [
    {
     "name": "stderr",
     "output_type": "stream",
     "text": [
      "C:\\Users\\kimvo\\anaconda3\\Lib\\site-packages\\seaborn\\_oldcore.py:1119: FutureWarning: use_inf_as_na option is deprecated and will be removed in a future version. Convert inf values to NaN before operating instead.\n",
      "  with pd.option_context('mode.use_inf_as_na', True):\n",
      "C:\\Users\\kimvo\\anaconda3\\Lib\\site-packages\\seaborn\\_oldcore.py:1075: FutureWarning: When grouping with a length-1 list-like, you will need to pass a length-1 tuple to get_group in a future version of pandas. Pass `(name,)` instead of `name` to silence this warning.\n",
      "  data_subset = grouped_data.get_group(pd_key)\n",
      "C:\\Users\\kimvo\\anaconda3\\Lib\\site-packages\\seaborn\\_oldcore.py:1075: FutureWarning: When grouping with a length-1 list-like, you will need to pass a length-1 tuple to get_group in a future version of pandas. Pass `(name,)` instead of `name` to silence this warning.\n",
      "  data_subset = grouped_data.get_group(pd_key)\n",
      "C:\\Users\\kimvo\\anaconda3\\Lib\\site-packages\\seaborn\\_oldcore.py:1075: FutureWarning: When grouping with a length-1 list-like, you will need to pass a length-1 tuple to get_group in a future version of pandas. Pass `(name,)` instead of `name` to silence this warning.\n",
      "  data_subset = grouped_data.get_group(pd_key)\n"
     ]
    },
    {
     "data": {
      "text/plain": [
       "<Axes: xlabel='efs_pred', ylabel='Count'>"
      ]
     },
     "execution_count": 24,
     "metadata": {},
     "output_type": "execute_result"
    },
    {
     "data": {
      "image/png": "[encoded data removed]",
      "text/plain": [
       "<Figure size 400x300 with 1 Axes>"
      ]
     },
     "metadata": {},
     "output_type": "display_data"
    }
   ],
   "source": [
    "df_pred = pd.concat([df['efs'], pred], axis=1)\n",
    "sns.histplot(df_pred, x='efs_pred', hue='efs')"
   ]
  },
  {
   "cell_type": "code",
   "execution_count": 25,
   "id": "d5bb7217-674b-4864-beeb-9a1325381603",
   "metadata": {
    "tags": []
   },
   "outputs": [
    {
     "name": "stdout",
     "output_type": "stream",
     "text": [
      "AUC:  0.7195661110352405\n"
     ]
    },
    {
     "data": {
      "image/png": "[encoded data removed]",
      "text/plain": [
       "<Figure size 400x300 with 1 Axes>"
      ]
     },
     "metadata": {},
     "output_type": "display_data"
    }
   ],
   "source": [
    "fpr, tpr, thresholds = roc_curve(df['efs'], pred)\n",
    "\n",
    "plt.plot(fpr, tpr)\n",
    "plt.xlabel('False Positive Rate')\n",
    "plt.ylabel('True Positive Rate')\n",
    "print('AUC: ', trap_int(fpr, tpr))"
   ]
  },
  {
   "cell_type": "markdown",
   "id": "fb0b02b2-968d-44cd-8e2a-5d92d7901073",
   "metadata": {
    "jp-MarkdownHeadingCollapsed": true,
    "tags": []
   },
   "source": [
    "### Fine-Tuning Model<a id='fine-tuning_model'></a>"
   ]
  },
  {
   "cell_type": "code",
   "execution_count": 26,
   "id": "d03b6a44-80d0-4224-a8a4-121b987994c4",
   "metadata": {
    "tags": []
   },
   "outputs": [],
   "source": [
    "def tune_rpdh_model(n_fold, tuning_mode):\n",
    "    rpdh_model = keras.models.load_model('../models/rpdh_model_'+str(n_fold)+'fold.keras')\n",
    "    rpdh_model.trainable = False\n",
    "\n",
    "    layers = [tuning_mode + i for i in ['_dense1', '_dense2', '_dense3', '_bn2']]\n",
    "    for layer in layers:\n",
    "        rpdh_model.get_layer(layer).trainable = True\n",
    "\n",
    "    last_layers = ['rpdh' + i for i in ['_dense1', '_out', '_bn']]\n",
    "    for layer in last_layers:\n",
    "        rpdh_model.get_layer(layer).trainable = True\n",
    "\n",
    "    return rpdh_model"
   ]
  },
  {
   "cell_type": "code",
   "execution_count": 27,
   "id": "2b438eea-bf22-44a6-8408-75450bf5d9fc",
   "metadata": {
    "tags": []
   },
   "outputs": [],
   "source": [
    "def cv_tune_rpdh(tuning_mode, X, Y, n=5, shuffle=True, random_state=0, save_model=False):\n",
    "    kf = StratifiedKFold(n_splits=n, shuffle=shuffle, random_state=random_state)\n",
    "    callback = EarlyStopping(monitor='val_loss', mode='min', patience=10, verbose=1)\n",
    "    pred = pd.Series(index=Y.index, name=Y.name+'_pred')\n",
    "    cv_scores = defaultdict(int)\n",
    "\n",
    "    for k, (train_index, test_index) in enumerate(kf.split(X, X['efs'])):\n",
    "        x_train, x_test = X.loc[train_index], X.loc[test_index]\n",
    "        y_train, y_test = Y.loc[train_index], Y.loc[test_index]\n",
    "        \n",
    "        train_sets, test_sets = preprocess_X(x_train, x_test, [preprocess_risk, preprocess_patient, preprocess_dr, preprocess_hct])\n",
    "\n",
    "        model = tune_rpdh_model(k, tuning_mode)\n",
    "        \n",
    "        if save_model:\n",
    "            callback_save = ModelCheckpoint(filepath = '../models/rpdh_model_'+str(k)+'fold.keras', monitor='val_loss', save_best_only=True)\n",
    "            history = model.fit(x=train_sets, y=y_train, batch_size=128, epochs=1000, validation_data=(test_sets, y_test), verbose=0, callbacks=[callback_save, callback])\n",
    "        else:\n",
    "            history = model.fit(x=train_sets, y=y_train, batch_size=128, epochs=1000, validation_data=(test_sets, y_test), verbose=0, callbacks=callback)\n",
    "\n",
    "        pred.loc[test_index] = model.predict(test_sets).reshape(-1)\n",
    "        for key in history.history.keys():\n",
    "            cv_scores[key] += history.history[key][-1]/n\n",
    "\n",
    "    return pred, cv_scores"
   ]
  },
  {
   "cell_type": "code",
   "execution_count": 30,
   "id": "d8c21e3d-e50d-4f81-a7db-605242e613d5",
   "metadata": {
    "tags": []
   },
   "outputs": [
    {
     "name": "stdout",
     "output_type": "stream",
     "text": [
      "Epoch 11: early stopping\n",
      "180/180 [==============================] - 1s 2ms/step\n",
      "Epoch 11: early stopping\n",
      "180/180 [==============================] - 1s 3ms/step\n",
      "Epoch 14: early stopping\n",
      "180/180 [==============================] - 1s 2ms/step\n",
      "Epoch 17: early stopping\n",
      "180/180 [==============================] - 1s 2ms/step\n",
      "Epoch 11: early stopping\n",
      "180/180 [==============================] - 1s 2ms/step\n"
     ]
    }
   ],
   "source": [
    "pred, scores = cv_tune_rpdh('patient', df, df['efs'], save_model=True)"
   ]
  },
  {
   "cell_type": "code",
   "execution_count": 31,
   "id": "1418ed70-27ea-485c-b6b6-f1b7a9a699ff",
   "metadata": {
    "tags": []
   },
   "outputs": [
    {
     "data": {
      "text/plain": [
       "defaultdict(int,\n",
       "            {'loss': 0.20066631734371185,\n",
       "             'accuracy': 0.6894704818725585,\n",
       "             'mse': 0.20066631734371185,\n",
       "             'mae': 0.40129220485687256,\n",
       "             'val_loss': 0.21248236298561096,\n",
       "             'val_accuracy': 0.6652777671813965,\n",
       "             'val_mse': 0.21248236298561096,\n",
       "             'val_mae': 0.4137466728687286})"
      ]
     },
     "execution_count": 31,
     "metadata": {},
     "output_type": "execute_result"
    }
   ],
   "source": [
    "scores"
   ]
  },
  {
   "cell_type": "code",
   "execution_count": 32,
   "id": "d8fa3758-751b-4337-bbeb-0c2c372216a2",
   "metadata": {
    "tags": []
   },
   "outputs": [
    {
     "name": "stderr",
     "output_type": "stream",
     "text": [
      "C:\\Users\\kimvo\\anaconda3\\Lib\\site-packages\\seaborn\\_oldcore.py:1119: FutureWarning: use_inf_as_na option is deprecated and will be removed in a future version. Convert inf values to NaN before operating instead.\n",
      "  with pd.option_context('mode.use_inf_as_na', True):\n",
      "C:\\Users\\kimvo\\anaconda3\\Lib\\site-packages\\seaborn\\_oldcore.py:1075: FutureWarning: When grouping with a length-1 list-like, you will need to pass a length-1 tuple to get_group in a future version of pandas. Pass `(name,)` instead of `name` to silence this warning.\n",
      "  data_subset = grouped_data.get_group(pd_key)\n",
      "C:\\Users\\kimvo\\anaconda3\\Lib\\site-packages\\seaborn\\_oldcore.py:1075: FutureWarning: When grouping with a length-1 list-like, you will need to pass a length-1 tuple to get_group in a future version of pandas. Pass `(name,)` instead of `name` to silence this warning.\n",
      "  data_subset = grouped_data.get_group(pd_key)\n",
      "C:\\Users\\kimvo\\anaconda3\\Lib\\site-packages\\seaborn\\_oldcore.py:1075: FutureWarning: When grouping with a length-1 list-like, you will need to pass a length-1 tuple to get_group in a future version of pandas. Pass `(name,)` instead of `name` to silence this warning.\n",
      "  data_subset = grouped_data.get_group(pd_key)\n"
     ]
    },
    {
     "data": {
      "text/plain": [
       "<Axes: xlabel='efs_pred', ylabel='Count'>"
      ]
     },
     "execution_count": 32,
     "metadata": {},
     "output_type": "execute_result"
    },
    {
     "data": {
      "image/png": "[encoded data removed]",
      "text/plain": [
       "<Figure size 400x300 with 1 Axes>"
      ]
     },
     "metadata": {},
     "output_type": "display_data"
    }
   ],
   "source": [
    "df_pred = pd.concat([df['efs'], pred], axis=1)\n",
    "sns.histplot(df_pred, x='efs_pred', hue='efs')"
   ]
  },
  {
   "cell_type": "code",
   "execution_count": 33,
   "id": "6452a49e-1491-4114-a1d8-ba4ac33585fe",
   "metadata": {
    "tags": []
   },
   "outputs": [
    {
     "name": "stdout",
     "output_type": "stream",
     "text": [
      "AUC:  0.7190906588950814\n"
     ]
    },
    {
     "data": {
      "image/png": "[encoded data removed]",
      "text/plain": [
       "<Figure size 400x300 with 1 Axes>"
      ]
     },
     "metadata": {},
     "output_type": "display_data"
    }
   ],
   "source": [
    "fpr, tpr, thresholds = roc_curve(df['efs'], pred)\n",
    "\n",
    "plt.plot(fpr, tpr)\n",
    "plt.xlabel('False Positive Rate')\n",
    "plt.ylabel('True Positive Rate')\n",
    "print('AUC: ', trap_int(fpr, tpr))"
   ]
  },
  {
   "cell_type": "markdown",
   "id": "af6c9348-b02e-40f7-990c-b135cc28ef9d",
   "metadata": {},
   "source": [
    "## Summary<a id='summary'></a>"
   ]
  },
  {
   "cell_type": "markdown",
   "id": "d2e38c0c-da39-481d-8740-31eb315cce25",
   "metadata": {},
   "source": [
    "1. Each channel (risk, patient, donor/recipient, HCT) improved model accuracy and AUC\n",
    "2. Validation accuracy was unexpectedly low at 0.665\n",
    "3. AUC was 0.719\n",
    "4. efs=0 predictions were split into two groups, one that was centered at ~0.13 and confidently predicted efs=0, while the other was centered at 0.5 and did not confidently predict efs=0\n",
    "5. efs=1 predictions followed a single distribution with a long left-sided tail. Peak at ~0.76"
   ]
  },
  {
   "cell_type": "code",
   "execution_count": null,
   "id": "19401fe2-292d-4e5e-a53e-ff3727e068b8",
   "metadata": {},
   "outputs": [],
   "source": []
  }
 ],
 "metadata": {
  "kernelspec": {
   "display_name": "Python 3 (ipykernel)",
   "language": "python",
   "name": "python3"
  },
  "language_info": {
   "codemirror_mode": {
    "name": "ipython",
    "version": 3
   },
   "file_extension": ".py",
   "mimetype": "text/x-python",
   "name": "python",
   "nbconvert_exporter": "python",
   "pygments_lexer": "ipython3",
   "version": "3.11.4"
  }
 },
 "nbformat": 4,
 "nbformat_minor": 5
}
